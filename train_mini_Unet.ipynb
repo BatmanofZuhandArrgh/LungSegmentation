{
  "nbformat": 4,
  "nbformat_minor": 0,
  "metadata": {
    "kernelspec": {
      "display_name": "Python 3",
      "language": "python",
      "name": "python3"
    },
    "language_info": {
      "codemirror_mode": {
        "name": "ipython",
        "version": 3
      },
      "file_extension": ".py",
      "mimetype": "text/x-python",
      "name": "python",
      "nbconvert_exporter": "python",
      "pygments_lexer": "ipython3",
      "version": "3.6.9"
    },
    "colab": {
      "name": "train_original_mini_Unet.ipynb",
      "provenance": [],
      "collapsed_sections": [],
      "toc_visible": true
    },
    "accelerator": "GPU"
  },
  "cells": [
    {
      "cell_type": "code",
      "metadata": {
        "id": "m2jM-Hc4ntnY"
      },
      "source": [
        "import os\n",
        "import numpy as np\n",
        "from typing import Union\n",
        "import cv2\n",
        "import matplotlib.pyplot as plt\n",
        "import glob as glob\n",
        "import json\n",
        "import pandas as pd\n",
        "from PIL import Image\n",
        "import keras"
      ],
      "execution_count": null,
      "outputs": []
    },
    {
      "cell_type": "code",
      "metadata": {
        "id": "9bG8BibTntnm"
      },
      "source": [
        "from tensorflow.keras import Model, Sequential\n",
        "from tensorflow.keras.utils import Sequence\n",
        "from tensorflow.keras import activations\n",
        "from tensorflow.keras.optimizers import Adam, SGD\n",
        "from tensorflow.keras.layers import Input, SeparableConv2D,Concatenate,Conv2DTranspose, Add, UpSampling2D, Conv2D, GlobalAveragePooling2D, GlobalMaxPooling2D,MaxPooling2D, Dropout, BatchNormalization, Dense, Activation, MaxPool2D, AveragePooling2D\n",
        "from tensorflow.keras.preprocessing.image import load_img\n",
        "\n",
        "\n",
        "from tensorflow.keras.metrics import SparseCategoricalAccuracy\n",
        "from tensorflow.keras.losses import SparseCategoricalCrossentropy\n",
        "from tensorflow.keras.callbacks import ModelCheckpoint, EarlyStopping\n",
        "from tensorflow.keras.optimizers import Adam\n",
        "from tensorflow.keras.utils import to_categorical \n",
        "\n",
        "from sklearn.metrics import confusion_matrix, classification_report\n",
        "from tensorflow.keras.preprocessing.image import ImageDataGenerator\n"
      ],
      "execution_count": null,
      "outputs": []
    },
    {
      "cell_type": "code",
      "metadata": {
        "colab": {
          "base_uri": "https://localhost:8080/",
          "height": 35
        },
        "id": "YExeEqRFntnn",
        "outputId": "e6e24d6e-5bb1-41fe-f028-66fa50a18345"
      },
      "source": [
        "os.getcwd()"
      ],
      "execution_count": null,
      "outputs": [
        {
          "output_type": "execute_result",
          "data": {
            "application/vnd.google.colaboratory.intrinsic+json": {
              "type": "string"
            },
            "text/plain": [
              "'/content'"
            ]
          },
          "metadata": {
            "tags": []
          },
          "execution_count": 3
        }
      ]
    },
    {
      "cell_type": "code",
      "metadata": {
        "colab": {
          "base_uri": "https://localhost:8080/"
        },
        "id": "5HeZ5PK8n7Kk",
        "outputId": "6076435b-3d47-4e71-c0be-59c6216be989"
      },
      "source": [
        "from google.colab import drive\n",
        "drive.mount('/content/drive')"
      ],
      "execution_count": null,
      "outputs": [
        {
          "output_type": "stream",
          "text": [
            "Drive already mounted at /content/drive; to attempt to forcibly remount, call drive.mount(\"/content/drive\", force_remount=True).\n"
          ],
          "name": "stdout"
        }
      ]
    },
    {
      "cell_type": "code",
      "metadata": {
        "colab": {
          "base_uri": "https://localhost:8080/",
          "height": 35
        },
        "id": "qJUUY1F7oWYJ",
        "outputId": "a154a4d1-2846-402b-f0d1-b2739774ccab"
      },
      "source": [
        "os.chdir('drive/MyDrive/xray_lung')\n",
        "os.getcwd()"
      ],
      "execution_count": null,
      "outputs": [
        {
          "output_type": "execute_result",
          "data": {
            "application/vnd.google.colaboratory.intrinsic+json": {
              "type": "string"
            },
            "text/plain": [
              "'/content/drive/MyDrive/xray_lung'"
            ]
          },
          "metadata": {
            "tags": []
          },
          "execution_count": 5
        }
      ]
    },
    {
      "cell_type": "code",
      "metadata": {
        "id": "JfTva_IMXuOz"
      },
      "source": [
        "image_path = 'Montgomery/CXR_png'\n",
        "left_seg_path = 'Montgomery/ManualMask/leftMask'\n",
        "right_seg_path = 'Montgomery/ManualMask/rightMask'"
      ],
      "execution_count": null,
      "outputs": []
    },
    {
      "cell_type": "code",
      "metadata": {
        "id": "23SR3sT_Lnht"
      },
      "source": [
        "# import shutil\n",
        "# temp = glob.glob('Montgomery/CXR_png/*png')\n",
        "# temp.sort()\n",
        "# temp = temp[:int(len(temp)*0.8)]\n",
        "# for file in temp:\n",
        "#   print(os.path.basename(file))\n",
        "#   dest = 'Montgomery/CXR_png/train/img'\n",
        "#   shutil.copyfile(file, f'{dest}/{os.path.basename(file)}')\n"
      ],
      "execution_count": null,
      "outputs": []
    },
    {
      "cell_type": "code",
      "metadata": {
        "id": "hOhW3ir2ZLe1"
      },
      "source": [
        "img_size = (512,512)\n",
        "classes = ['lung']\n",
        "num_classes = len(classes)\n",
        "batch_size = 4"
      ],
      "execution_count": null,
      "outputs": []
    },
    {
      "cell_type": "code",
      "metadata": {
        "id": "Mfs-fZCPaVDv"
      },
      "source": [
        "# if not os.path.exists('Mongomery/Masks'):\n",
        "#   os.makedirs('Montgomery/Masks')"
      ],
      "execution_count": null,
      "outputs": []
    },
    {
      "cell_type": "code",
      "metadata": {
        "id": "lyxLLjpjYdX0"
      },
      "source": [
        "# right_paths = glob.glob(f'{right_seg_path}/*png')\n",
        "# left_paths = glob.glob(f'{left_seg_path}/*png')\n",
        "# for index,file in enumerate(right_paths):\n",
        "#   print(os.path.basename(file))\n",
        "#   left = load_img(left_paths[index], target_size=img_size, color_mode=\"grayscale\")\n",
        "#   right = load_img(right_paths[index], target_size=img_size, color_mode=\"grayscale\")\n",
        "\n",
        "#   img = Image.fromarray((np.array(left) + np.array(right))/255.).convert('RGB')\n",
        "  \n",
        "#   img.save(f'Montgomery/Masks/{os.path.basename(file)}', \"PNG\")\n",
        "  # plt.imshow(img)\n",
        "  # plt.show()\n"
      ],
      "execution_count": null,
      "outputs": []
    },
    {
      "cell_type": "code",
      "metadata": {
        "colab": {
          "base_uri": "https://localhost:8080/",
          "height": 35
        },
        "id": "-Flmpl4GfdpP",
        "outputId": "ba22d646-6efc-4bd9-990e-90ec07e17a3f"
      },
      "source": [
        "os.getcwd()"
      ],
      "execution_count": null,
      "outputs": [
        {
          "output_type": "execute_result",
          "data": {
            "application/vnd.google.colaboratory.intrinsic+json": {
              "type": "string"
            },
            "text/plain": [
              "'/content/drive/MyDrive/xray_lung'"
            ]
          },
          "metadata": {
            "tags": []
          },
          "execution_count": 12
        }
      ]
    },
    {
      "cell_type": "code",
      "metadata": {
        "colab": {
          "base_uri": "https://localhost:8080/",
          "height": 287
        },
        "id": "rfGt7GS6nzdg",
        "outputId": "5d1b32e6-4791-4382-de29-69dab3ec696e"
      },
      "source": [
        "index = 0\n",
        "train_img_path = glob.glob('Montgomery/CXR_png/train/img/*png')\n",
        "img = cv2.imread(train_img_path[index], 0)\n",
        "# print(np.unique(img, return_counts = True))\n",
        "print(img.shape)\n",
        "plt.imshow(img)\n",
        "plt.show()"
      ],
      "execution_count": null,
      "outputs": [
        {
          "output_type": "stream",
          "text": [
            "(4020, 4892)\n"
          ],
          "name": "stdout"
        },
        {
          "output_type": "display_data",
          "data": {
            "image/png": "[encoded data removed]",
            "text/plain": [
              "<Figure size 432x288 with 1 Axes>"
            ]
          },
          "metadata": {
            "tags": [],
            "needs_background": "light"
          }
        }
      ]
    },
    {
      "cell_type": "code",
      "metadata": {
        "colab": {
          "base_uri": "https://localhost:8080/"
        },
        "id": "Jzda9l3sew7l",
        "outputId": "2fbe84d7-1964-481c-a8fa-e12838b8e83d"
      },
      "source": [
        "image_paths = glob.glob('Montgomery/CXR_png/*.png')\n",
        "target_paths = glob.glob('Montgomery/Masks/*.png')\n",
        "image_paths.sort()\n",
        "target_paths.sort()\n",
        "train_ratio = 0.8\n",
        "train_input_img_paths = image_paths[:int(len(image_paths) * 0.8)]\n",
        "val_input_img_paths = [x for x in image_paths if x not in train_input_img_paths]\n",
        "train_target_img_paths = target_paths[:int(len(target_paths) * 0.8)]\n",
        "val_target_img_paths = [x for x in target_paths if x not in train_target_img_paths]\n",
        "\n",
        "print(len(train_target_img_paths))\n",
        "print(len(val_target_img_paths))\n",
        "\n",
        "class DataGenerator(keras.utils.Sequence):\n",
        "    \n",
        "    def __init__(self,train_im_path = train_input_img_paths,train_mask_path = train_target_img_paths,\n",
        "                 augmentations = None,img_size = img_size[0],batch_size = 4,nchannels = 3,shuffle = True):\n",
        "        \n",
        "        self.train_im_path = train_im_path\n",
        "        self.train_mask_path = train_mask_path\n",
        "        self.img_size = img_size\n",
        "        self.batch_size = batch_size\n",
        "        self.nchannels = nchannels\n",
        "        self.shuffle = shuffle\n",
        "        self.augmentations = augmentations\n",
        "        self.on_epoch_end()\n",
        "    \n",
        "    def __len__(self):\n",
        "        \n",
        "        return int(np.ceil(len(self.train_im_path)/ self.batch_size))\n",
        "    \n",
        "    def __getitem__(self,index):\n",
        "        \n",
        "        indexes = self.indexes[index * self.batch_size : min((index + 1) * self.batch_size, len(self.train_im_path))]\n",
        "        list_im_ids = [self.train_im_path[i] for i in indexes]\n",
        "        list_mask_ids = [self.train_mask_path[i] for i in indexes]\n",
        "        X,y = self.data_generation(list_im_ids,list_mask_ids)\n",
        "        \n",
        "        return X,to_categorical(y, num_classes = 2)\n",
        "    \n",
        "    def on_epoch_end(self):\n",
        "        # print(type(self.train_im_path))\n",
        "        self.indexes = np.arange(len(self.train_im_path))\n",
        "        if(self.shuffle):\n",
        "            np.random.shuffle(self.indexes)\n",
        "    \n",
        "    def data_generation(self,list_im_ids,list_mask_ids):\n",
        "        X = np.empty((len(list_im_ids),self.img_size,self.img_size,self.nchannels))\n",
        "        y = np.empty((len(list_mask_ids),self.img_size,self.img_size,1))\n",
        "        for i,(img_path, mask_path) in enumerate(zip(list_im_ids,list_mask_ids)):\n",
        "            mask = np.array(Image.open(mask_path).convert('L'))\n",
        "            img = np.array(Image.open(img_path))/255\n",
        "            if(len(img.shape) == 2):\n",
        "                img = np.repeat(img[...,np.newaxis],3,2)\n",
        "            \n",
        "            X[i,] = cv2.resize(img,(self.img_size,self.img_size))\n",
        "            y[i,] = cv2.resize(mask,(self.img_size,self.img_size))[...,np.newaxis]\n",
        "        return np.float32(X),np.float32(y)\n",
        "\n",
        "\n",
        "\n",
        "train_gen = DataGenerator()\n",
        "val_gen = DataGenerator(train_im_path = val_input_img_paths, train_mask_path = val_target_img_paths)"
      ],
      "execution_count": null,
      "outputs": [
        {
          "output_type": "stream",
          "text": [
            "110\n",
            "28\n"
          ],
          "name": "stdout"
        }
      ]
    },
    {
      "cell_type": "code",
      "metadata": {
        "colab": {
          "base_uri": "https://localhost:8080/"
        },
        "id": "SMFSS7LdiL8K",
        "outputId": "b14dad60-318f-4a7c-e8a9-2e8d2cb7e741"
      },
      "source": [
        "len(val_gen)"
      ],
      "execution_count": null,
      "outputs": [
        {
          "output_type": "execute_result",
          "data": {
            "text/plain": [
              "7"
            ]
          },
          "metadata": {
            "tags": []
          },
          "execution_count": 15
        }
      ]
    },
    {
      "cell_type": "code",
      "metadata": {
        "id": "bWfyVL3DeDf6"
      },
      "source": [
        "# image_paths = glob.glob('Montgomery/CXR_png/*.png')\n",
        "# target_paths = glob.glob('Montgomery/Masks/*.png')\n",
        "# image_paths.sort()\n",
        "# target_paths.sort()\n",
        "# train_ratio = 0.8\n",
        "# train_input_img_paths = image_paths[:int(len(image_paths) * 0.8)]\n",
        "# val_input_img_paths = [x for x in image_paths if x not in train_input_img_paths]\n",
        "# train_target_img_paths = target_paths[:int(len(target_paths) * 0.8)]\n",
        "# val_target_img_paths = [x for x in target_paths if x not in train_target_img_paths]\n",
        "\n",
        "# print(len(train_target_img_paths))\n",
        "# print(len(val_target_img_paths))"
      ],
      "execution_count": null,
      "outputs": []
    },
    {
      "cell_type": "code",
      "metadata": {
        "id": "pRKyvxNHXtGv"
      },
      "source": [
        "\n",
        "# train_gen = ImageDataGen(\n",
        "#     batch_size, img_size, train_input_img_paths, train_target_img_paths\n",
        "# )\n",
        "# val_gen = ImageDataGen(batch_size, img_size, val_input_img_paths, val_target_img_paths)"
      ],
      "execution_count": null,
      "outputs": []
    },
    {
      "cell_type": "code",
      "metadata": {
        "id": "TvCXsJg6IOof"
      },
      "source": [
        "# # we create two instances with the same arguments\n",
        "# data_gen_args = dict(zoom_range=[0.8, 1.2],\n",
        "#                      horizontal_flip = True,\n",
        "#                      rotation_range = 10,\n",
        "#                      featurewise_center=False,\n",
        "#                       featurewise_std_normalization=False,\n",
        "#                      )\n",
        "# # def train_generator( \n",
        "# #                     train_path, \n",
        "# #                     image_folder = 'Montgomery/CXR_png/train', \n",
        "# #                     mask_folder, \n",
        "# #                     aug_dict = data_gen_args,\n",
        "# #                     batch_size = batch_size,\n",
        "# #         image_color_mode=\"grayscale\",\n",
        "# #         mask_color_mode=\"grayscale\",\n",
        "# #         image_save_prefix=\"image\",\n",
        "# #         mask_save_prefix=\"mask\",\n",
        "# #         save_to_dir=None,\n",
        "# #         target_size=img_size,\n",
        "# #         seed=1):\n",
        "# image_datagen = ImageDataGenerator(**data_gen_args)\n",
        "# mask_datagen = ImageDataGenerator(**data_gen_args)\n",
        "# # Provide the same seed and keyword arguments to the fit and flow methods\n",
        "# seed = 1\n",
        "\n",
        "# image_generator = image_datagen.flow_from_directory(\n",
        "#   'Montgomery/CXR_png/train',\n",
        "#   class_mode=None,\n",
        "#   batch_size = batch_size,\n",
        "#   target_size=img_size,\n",
        "#   seed=seed)\n",
        "# mask_generator = mask_datagen.flow_from_directory(\n",
        "#   'Montgomery/Masks/train',\n",
        "#   class_mode=None,\n",
        "#   batch_size = batch_size,\n",
        "#   color_mode = 'grayscale',\n",
        "#   target_size=img_size,\n",
        "#   seed=seed)\n",
        "# # combine generators into one which yields image and masks\n",
        "# train_gen = zip(image_generator, mask_generator)"
      ],
      "execution_count": null,
      "outputs": []
    },
    {
      "cell_type": "code",
      "metadata": {
        "id": "xcghhaOlIO1I"
      },
      "source": [
        "# valid_image_datagen = ImageDataGenerator()\n",
        "# valid_mask_datagen = ImageDataGenerator()\n",
        "# valid_image_generator = valid_image_datagen.flow_from_directory(\n",
        "#     'Montgomery/CXR_png/valid',\n",
        "#     class_mode=None,\n",
        "#     target_size=img_size,\n",
        "#     batch_size = batch_size,\n",
        "#     seed=seed)\n",
        "# valid_mask_generator = valid_mask_datagen.flow_from_directory(\n",
        "#     'Montgomery/Masks/valid',\n",
        "#     class_mode=None,\n",
        "#     batch_size = batch_size,\n",
        "#     target_size=img_size,\n",
        "#     color_mode = 'grayscale',\n",
        "#     seed=seed)\n",
        "# # combine generators into one which yields image and masks\n",
        "# val_gen = zip(valid_image_generator, valid_mask_generator)"
      ],
      "execution_count": null,
      "outputs": []
    },
    {
      "cell_type": "code",
      "metadata": {
        "id": "kCS5VixNntnu",
        "colab": {
          "base_uri": "https://localhost:8080/"
        },
        "outputId": "05843327-0bd7-4773-d273-1138ca15102f"
      },
      "source": [
        "from image_segmentation.keras_segmentation.models.unet import unet_mini\n",
        "\n",
        "model = unet_mini(n_classes=2,  input_height=img_size[0], input_width=img_size[1]  )\n",
        "\n",
        "model.summary()"
      ],
      "execution_count": null,
      "outputs": [
        {
          "output_type": "stream",
          "text": [
            "Model: \"model\"\n",
            "__________________________________________________________________________________________________\n",
            "Layer (type)                    Output Shape         Param #     Connected to                     \n",
            "==================================================================================================\n",
            "input_1 (InputLayer)            [(None, 512, 512, 3) 0                                            \n",
            "__________________________________________________________________________________________________\n",
            "conv2d (Conv2D)                 (None, 512, 512, 32) 896         input_1[0][0]                    \n",
            "__________________________________________________________________________________________________\n",
            "dropout (Dropout)               (None, 512, 512, 32) 0           conv2d[0][0]                     \n",
            "__________________________________________________________________________________________________\n",
            "conv2d_1 (Conv2D)               (None, 512, 512, 32) 9248        dropout[0][0]                    \n",
            "__________________________________________________________________________________________________\n",
            "max_pooling2d (MaxPooling2D)    (None, 256, 256, 32) 0           conv2d_1[0][0]                   \n",
            "__________________________________________________________________________________________________\n",
            "conv2d_2 (Conv2D)               (None, 256, 256, 64) 18496       max_pooling2d[0][0]              \n",
            "__________________________________________________________________________________________________\n",
            "dropout_1 (Dropout)             (None, 256, 256, 64) 0           conv2d_2[0][0]                   \n",
            "__________________________________________________________________________________________________\n",
            "conv2d_3 (Conv2D)               (None, 256, 256, 64) 36928       dropout_1[0][0]                  \n",
            "__________________________________________________________________________________________________\n",
            "max_pooling2d_1 (MaxPooling2D)  (None, 128, 128, 64) 0           conv2d_3[0][0]                   \n",
            "__________________________________________________________________________________________________\n",
            "conv2d_4 (Conv2D)               (None, 128, 128, 128 73856       max_pooling2d_1[0][0]            \n",
            "__________________________________________________________________________________________________\n",
            "dropout_2 (Dropout)             (None, 128, 128, 128 0           conv2d_4[0][0]                   \n",
            "__________________________________________________________________________________________________\n",
            "conv2d_5 (Conv2D)               (None, 128, 128, 128 147584      dropout_2[0][0]                  \n",
            "__________________________________________________________________________________________________\n",
            "up_sampling2d (UpSampling2D)    (None, 256, 256, 128 0           conv2d_5[0][0]                   \n",
            "__________________________________________________________________________________________________\n",
            "concatenate (Concatenate)       (None, 256, 256, 192 0           up_sampling2d[0][0]              \n",
            "                                                                 conv2d_3[0][0]                   \n",
            "__________________________________________________________________________________________________\n",
            "conv2d_6 (Conv2D)               (None, 256, 256, 64) 110656      concatenate[0][0]                \n",
            "__________________________________________________________________________________________________\n",
            "dropout_3 (Dropout)             (None, 256, 256, 64) 0           conv2d_6[0][0]                   \n",
            "__________________________________________________________________________________________________\n",
            "conv2d_7 (Conv2D)               (None, 256, 256, 64) 36928       dropout_3[0][0]                  \n",
            "__________________________________________________________________________________________________\n",
            "up_sampling2d_1 (UpSampling2D)  (None, 512, 512, 64) 0           conv2d_7[0][0]                   \n",
            "__________________________________________________________________________________________________\n",
            "concatenate_1 (Concatenate)     (None, 512, 512, 96) 0           up_sampling2d_1[0][0]            \n",
            "                                                                 conv2d_1[0][0]                   \n",
            "__________________________________________________________________________________________________\n",
            "conv2d_8 (Conv2D)               (None, 512, 512, 32) 27680       concatenate_1[0][0]              \n",
            "__________________________________________________________________________________________________\n",
            "dropout_4 (Dropout)             (None, 512, 512, 32) 0           conv2d_8[0][0]                   \n",
            "__________________________________________________________________________________________________\n",
            "conv2d_9 (Conv2D)               (None, 512, 512, 32) 9248        dropout_4[0][0]                  \n",
            "__________________________________________________________________________________________________\n",
            "conv2d_10 (Conv2D)              (None, 512, 512, 2)  66          conv2d_9[0][0]                   \n",
            "==================================================================================================\n",
            "Total params: 471,586\n",
            "Trainable params: 471,586\n",
            "Non-trainable params: 0\n",
            "__________________________________________________________________________________________________\n"
          ],
          "name": "stdout"
        }
      ]
    },
    {
      "cell_type": "code",
      "metadata": {
        "id": "6ArzkGHskGpv"
      },
      "source": [
        "# # new_layer = model.layers[-1]\n",
        "# # required_output = model.layers[-4].output\n",
        "# top_layer = UpSampling2D()(required_output)\n",
        "# top_layer = Conv2D(2, (1, 1),  activation=\"softmax\", data_format='channels_last')(top_layer)\n",
        "# # print(new_layer)\n",
        "# # print(new_model)\n",
        "\n",
        "\n",
        "# new_model = Model(model.input, top_layer)\n",
        "# new_model.summary()"
      ],
      "execution_count": null,
      "outputs": []
    },
    {
      "cell_type": "code",
      "metadata": {
        "id": "5-h95l_0ntnx"
      },
      "source": [
        "# from sklearn.utils.class_weight import compute_class_weight\n",
        "# values = compute_class_weight('balanced',\n",
        "#                                                  np.unique(np.argmax(target_train, axis = -1).tolist()),\n",
        "#                                                  np.ravel(np.argmax(target_train, axis = -1)).tolist())\n",
        "\n",
        "# # class_weight = dict(zip([x for x in range(len(classes))], values))\n",
        "# sample_weight = values\n",
        "# sample_weight "
      ],
      "execution_count": null,
      "outputs": []
    },
    {
      "cell_type": "code",
      "metadata": {
        "id": "izY5rES7ntnz"
      },
      "source": [
        "# import tensorflow.keras as K\n",
        "# import tensorflow as tf\n",
        "# def weighted_categorical_crossentropy(weights = class_weight):\n",
        "#     # weights = [0.9,0.05,0.04,0.01]\n",
        "#     def wcce(y_true, y_pred):\n",
        "#         Kweights = K.initializers.constant(weights)\n",
        "#         if not tf.is_tensor(y_pred): y_pred =  K.initializers.constant(y_pred)\n",
        "#         y_true = tf.cast(y_true, y_pred.dtype)\n",
        "#         return K.losses.categorical_crossentropy(y_true, y_pred) * K.backend.sum(y_true * Kweights, axis=-1)\n",
        "#     return wcce"
      ],
      "execution_count": null,
      "outputs": []
    },
    {
      "cell_type": "code",
      "metadata": {
        "id": "zQJvkF0MdBqs"
      },
      "source": [
        "from keras import backend as K\n",
        "\n",
        "def dice_coef(y_true, y_pred, smooth=1):\n",
        "    \"\"\"\n",
        "    Dice = (2*|X & Y|)/ (|X|+ |Y|)\n",
        "         =  2*sum(|A*B|)/(sum(A^2)+sum(B^2))\n",
        "    ref: https://arxiv.org/pdf/1606.04797v1.pdf\n",
        "    \"\"\"\n",
        "    intersection = K.sum(K.abs(y_true * y_pred), axis=-1)\n",
        "    return (2. * intersection + smooth) / (K.sum(K.square(y_true),-1) + K.sum(K.square(y_pred),-1) + smooth)\n",
        "\n",
        "def dice_coef_loss(y_true, y_pred):\n",
        "    return 1-dice_coef(y_true, y_pred)"
      ],
      "execution_count": null,
      "outputs": []
    },
    {
      "cell_type": "code",
      "metadata": {
        "colab": {
          "base_uri": "https://localhost:8080/"
        },
        "id": "BgA1L5XLpkdB",
        "outputId": "d564a74a-78e9-4bed-9342-be41d5ab3d44"
      },
      "source": [
        "# callback = EarlyStopping(monitor='val_categorical_accuracy', mode = 'max', patience=5)\n",
        "checkpoint_folderpath = f'weights/{model.model_name}_first_temp'\n",
        "if not os.path.exists(checkpoint_folderpath):\n",
        "    os.makedirs(checkpoint_folderpath) \n",
        "\n",
        "checkpoint_filepath = checkpoint_folderpath + \"/{epoch:02d}-{val_categorical_accuracy:.2f}.h5\"\n",
        "model_checkpoint_callback = ModelCheckpoint(\n",
        "    filepath=f'{checkpoint_filepath}',\n",
        "    save_weights_only=True,\n",
        "    monitor='val_categorical_accuracy',\n",
        "    mode='max',\n",
        "    save_best_only=True)\n",
        "\n",
        "keras_callbacks   = [\n",
        "      EarlyStopping(monitor='val_categorical_accuracy', patience=7, mode='max', min_delta = 0.01),\n",
        "      model_checkpoint_callback\n",
        "]\n",
        "# loss = weighted_categorical_crossentropy(class_weight)\n",
        "opt = Adam(learning_rate=0.0001)\n",
        "model.compile(\n",
        "    optimizer=opt, loss=dice_coef_loss, metrics=[dice_coef, 'categorical_accuracy'], loss_weights=None,\n",
        "    weighted_metrics=None, run_eagerly=None)\n",
        "history = model.fit(\n",
        "    train_gen,\n",
        "    # batch_size = batch_size,\n",
        "    steps_per_epoch=27,\n",
        "    epochs=25,\n",
        "#     class_weight = class_weight,\n",
        "#     sample_weight=sample_weight,\n",
        "    validation_data = val_gen,\n",
        "    validation_steps = 7,\n",
        "    verbose = 1,\n",
        "    callbacks = keras_callbacks,)"
      ],
      "execution_count": null,
      "outputs": [
        {
          "output_type": "stream",
          "text": [
            "Epoch 1/25\n",
            "27/27 [==============================] - 103s 4s/step - loss: 0.1860 - dice_coef: 0.8140 - categorical_accuracy: 0.6253 - val_loss: 0.1496 - val_dice_coef: 0.8504 - val_categorical_accuracy: 0.7473\n",
            "Epoch 2/25\n",
            "27/27 [==============================] - 100s 4s/step - loss: 0.1447 - dice_coef: 0.8553 - categorical_accuracy: 0.7461 - val_loss: 0.1321 - val_dice_coef: 0.8679 - val_categorical_accuracy: 0.7473\n",
            "Epoch 3/25\n",
            "27/27 [==============================] - 100s 4s/step - loss: 0.1151 - dice_coef: 0.8849 - categorical_accuracy: 0.7470 - val_loss: 0.1107 - val_dice_coef: 0.8893 - val_categorical_accuracy: 0.7473\n",
            "Epoch 4/25\n",
            "27/27 [==============================] - 101s 4s/step - loss: 0.1069 - dice_coef: 0.8931 - categorical_accuracy: 0.7326 - val_loss: 0.1223 - val_dice_coef: 0.8777 - val_categorical_accuracy: 0.7473\n",
            "Epoch 5/25\n",
            "27/27 [==============================] - 101s 4s/step - loss: 0.0877 - dice_coef: 0.9123 - categorical_accuracy: 0.7456 - val_loss: 0.1391 - val_dice_coef: 0.8609 - val_categorical_accuracy: 0.7852\n",
            "Epoch 6/25\n",
            "27/27 [==============================] - 100s 4s/step - loss: 0.0819 - dice_coef: 0.9181 - categorical_accuracy: 0.8642 - val_loss: 0.1484 - val_dice_coef: 0.8516 - val_categorical_accuracy: 0.6425\n",
            "Epoch 7/25\n",
            "27/27 [==============================] - 100s 4s/step - loss: 0.0738 - dice_coef: 0.9262 - categorical_accuracy: 0.8991 - val_loss: 0.2492 - val_dice_coef: 0.7508 - val_categorical_accuracy: 0.5381\n",
            "Epoch 8/25\n",
            "27/27 [==============================] - 101s 4s/step - loss: 0.0562 - dice_coef: 0.9438 - categorical_accuracy: 0.9046 - val_loss: 0.2784 - val_dice_coef: 0.7216 - val_categorical_accuracy: 0.5451\n",
            "Epoch 9/25\n",
            "27/27 [==============================] - 101s 4s/step - loss: 0.0534 - dice_coef: 0.9466 - categorical_accuracy: 0.9063 - val_loss: 0.2126 - val_dice_coef: 0.7874 - val_categorical_accuracy: 0.5607\n",
            "Epoch 10/25\n",
            "27/27 [==============================] - 101s 4s/step - loss: 0.0484 - dice_coef: 0.9516 - categorical_accuracy: 0.9147 - val_loss: 0.2288 - val_dice_coef: 0.7712 - val_categorical_accuracy: 0.5617\n",
            "Epoch 11/25\n",
            "27/27 [==============================] - 100s 4s/step - loss: 0.0452 - dice_coef: 0.9548 - categorical_accuracy: 0.9196 - val_loss: 0.2085 - val_dice_coef: 0.7915 - val_categorical_accuracy: 0.5684\n",
            "Epoch 12/25\n",
            "27/27 [==============================] - 100s 4s/step - loss: 0.0446 - dice_coef: 0.9554 - categorical_accuracy: 0.9207 - val_loss: 0.1794 - val_dice_coef: 0.8206 - val_categorical_accuracy: 0.5755\n"
          ],
          "name": "stdout"
        }
      ]
    },
    {
      "cell_type": "code",
      "metadata": {
        "id": "Xod2i6aPntn0"
      },
      "source": [
        "# callback = EarlyStopping(monitor='val_categorical_accuracy', mode = 'max', patience=5)\n",
        "checkpoint_folderpath = f'weights/{model.model_name}_first_temp'\n",
        "if not os.path.exists(checkpoint_folderpath):\n",
        "    os.makedirs(checkpoint_folderpath) \n",
        "\n",
        "checkpoint_filepath = checkpoint_folderpath + \"/{epoch:02d}-{val_binary_accuracy:.2f}.h5\"\n",
        "model_checkpoint_callback = ModelCheckpoint(\n",
        "    filepath=f'{checkpoint_filepath}',\n",
        "    save_weights_only=True,\n",
        "    monitor='val_binary_accuracy',\n",
        "    mode='max',\n",
        "    save_best_only=True)\n",
        "\n",
        "keras_callbacks   = [\n",
        "      EarlyStopping(monitor='val_binary_accuracy', patience=7, mode='max', min_delta = 0.01),\n",
        "      model_checkpoint_callback\n",
        "]\n",
        "# loss = weighted_categorical_crossentropy(class_weight)\n",
        "opt = Adam(learning_rate=0.0001)\n",
        "model.compile(\n",
        "    optimizer=opt, loss=dice_coef_loss, metrics=[dice_coef, 'binary_accuracy'], loss_weights=None,\n",
        "    weighted_metrics=None, run_eagerly=None)\n",
        "history = model.fit(\n",
        "    train_gen,\n",
        "    # batch_size = batch_size,\n",
        "    steps_per_epoch=27,\n",
        "    epochs=25,\n",
        "#     class_weight = class_weight,\n",
        "#     sample_weight=sample_weight,\n",
        "    validation_data = val_gen,\n",
        "    validation_steps = 7,\n",
        "    verbose = 1,\n",
        "    callbacks = keras_callbacks,)"
      ],
      "execution_count": null,
      "outputs": []
    },
    {
      "cell_type": "code",
      "metadata": {
        "id": "yrezGdzfntn1"
      },
      "source": [
        "# summarize history for accuracy\n",
        "fig, (ax1, ax2) = plt.subplots(1, 2, figsize = (20,5))\n",
        "ax1.plot(history.history['binary_accuracy'])\n",
        "ax1.plot(history.history['val_binary_accuracy'])\n",
        "ax1.set_title('model accuracy')\n",
        "ax1.set_ylabel('accuracy')\n",
        "ax1.set_xlabel('epoch')\n",
        "ax1.legend(['train', 'test'], loc='upper left')\n",
        "# summarize history for loss\n",
        "ax2.plot(history.history['loss'])\n",
        "ax2.plot(history.history['val_loss'])\n",
        "ax2.set_title('model loss')\n",
        "ax1.set_ylabel('loss')\n",
        "ax1.set_xlabel('epoch')\n",
        "ax1.legend(['train', 'test'], loc='upper left')\n",
        "plt.show()"
      ],
      "execution_count": null,
      "outputs": []
    },
    {
      "cell_type": "code",
      "metadata": {
        "id": "AjdJ-Rc-ntn2"
      },
      "source": [
        "weight_files = glob.glob(f'{checkpoint_folderpath}/*h5')\n",
        "print(weight_files[-1])\n",
        "model.load_weights(weight_files[-1])\n",
        "\n",
        "#Wiping remaining weight files\n",
        "for file in weight_files[:-1]:\n",
        "    os.remove(file)"
      ],
      "execution_count": null,
      "outputs": []
    },
    {
      "cell_type": "code",
      "metadata": {
        "id": "69X6bDNFntn3"
      },
      "source": [
        "import matplotlib.pyplot as plt\n",
        "from sklearn.metrics import classification_report, confusion_matrix\n",
        "import numpy as np\n",
        "\n",
        "def plot_confusion_matrix(cm, labels, title='Confusion matrix', cmap=plt.cm.Blues):\n",
        "    #cm output from sklearn.confusion_matrix\n",
        "    fig, ax = plt.subplots(figsize = (10,10))\n",
        "    ax.imshow(cm, interpolation='nearest', cmap=cmap)\n",
        "\n",
        "    for i in range(cm.shape[0]):\n",
        "        for j in range(cm.shape[1]):\n",
        "            text = ax.text(j, i, np.round(cm[i, j], 2),\n",
        "                          ha=\"center\", va=\"center\", color=\"k\")\n",
        "    plt.title(title)\n",
        "    tick_marks = np.arange(len(labels))\n",
        "    plt.xticks(tick_marks, labels, rotation=45)\n",
        "    plt.yticks(tick_marks, labels)\n",
        "    plt.tight_layout()\n",
        "    plt.ylabel('True label')\n",
        "    plt.xlabel('Predicted label')\n",
        "    plt.show()\n",
        "def evaluate(y_truth, y_pred, labels): \n",
        "    print('Classification Report')\n",
        "    print(classification_report(y_truth, y_pred,labels = [x for x in range(len(labels))], target_names=labels))\n",
        "    print('Confusion Matrix')\n",
        "    plot_confusion_matrix(confusion_matrix(y_truth, y_pred, normalize = 'true'), labels = labels)"
      ],
      "execution_count": null,
      "outputs": []
    },
    {
      "cell_type": "code",
      "metadata": {
        "id": "v5-iQVpantn5"
      },
      "source": [
        "# from evaluate import evaluate\n",
        "#Ground truth\n",
        "y_truth = valid_mask_generator.classes\n",
        "print(y_truth.shape)\n",
        "print('True Valid',np.unique(y_truth, return_counts = True))\n",
        "\n",
        "#Predict\n",
        "predict = model.predict_generator(test_generator,steps = nb_samples)\n",
        "y_pred = model.predict(data_valid)\n",
        "y_pred = np.ravel(np.argmax(y_pred, axis = -1))\n",
        "print(y_pred.shape)\n",
        "print('Pred Valid', np.unique(y_pred, return_counts = True))\n"
      ],
      "execution_count": null,
      "outputs": []
    },
    {
      "cell_type": "code",
      "metadata": {
        "id": "21ij8cT0ntn5"
      },
      "source": [
        "#Evaluate\n",
        "evaluate(y_truth, y_pred, classes)"
      ],
      "execution_count": null,
      "outputs": []
    },
    {
      "cell_type": "code",
      "metadata": {
        "id": "uid9IC3untn6"
      },
      "source": [
        ""
      ],
      "execution_count": null,
      "outputs": []
    }
  ]
}